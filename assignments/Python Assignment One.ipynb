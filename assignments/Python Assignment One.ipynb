{
 "cells": [
  {
   "cell_type": "markdown",
   "metadata": {},
   "source": [
    "# Introduction to Programming Summer '18\n",
    "## Assignment One\n",
    "### Kiran Sundaram"
   ]
  },
  {
   "cell_type": "code",
   "execution_count": 10,
   "metadata": {},
   "outputs": [
    {
     "name": "stdout",
     "output_type": "stream",
     "text": [
      "5 + 7 =  <class 'int'> 12\n",
      "5 - 7 =  <class 'int'> -2\n",
      "5 * 7 =  <class 'int'> 35\n",
      "5 / 7 =  <class 'float'> 0.7142857142857143\n",
      "5^7 =  <class 'int'> 78125\n"
     ]
    }
   ],
   "source": [
    "# Question One\n",
    "\n",
    "x = 5\n",
    "y = 7\n",
    "\n",
    "a = x+y\n",
    "s = x-y\n",
    "m = x*y\n",
    "d = x/y\n",
    "p = x**y\n",
    "\n",
    "print(\"5 + 7 = \", type(a), a)\n",
    "print(\"5 - 7 = \", type(s), s )\n",
    "print(\"5 * 7 = \", type(m), m)\n",
    "print(\"5 / 7 = \", type(d), d)\n",
    "print(\"5^7 = \", type(p), p)\n"
   ]
  },
  {
   "cell_type": "code",
   "execution_count": 11,
   "metadata": {},
   "outputs": [
    {
     "name": "stdout",
     "output_type": "stream",
     "text": [
      "Enter your first number: 5\n",
      "Enter your second number: 14\n",
      "5 + 14 = 19\n",
      "5 - 14 = -9\n",
      "5 * 14 = 70\n",
      "5 / 14 = 0.35714285714285715\n",
      "5 ^ 14 = 6103515625\n"
     ]
    }
   ],
   "source": [
    "# Question Two\n",
    "\n",
    "number1 = int(input(\"Enter your first number: \"))\n",
    "number2 = int(input(\"Enter your second number: \"))\n",
    "\n",
    "result_addition = (number1 + number2)\n",
    "result_subtraction = (number1 - number2)\n",
    "result_multiplication = (number1 * number2)\n",
    "result_division = (number1 / number2)\n",
    "result_power = (number1 ** number2)\n",
    "\n",
    "print('{} + {} = {}'.format(number1, number2, result_addition))\n",
    "print('{} - {} = {}'.format(number1, number2, result_subtraction))\n",
    "print('{} * {} = {}'.format(number1, number2, result_multiplication))\n",
    "print('{} / {} = {}'.format(number1, number2, result_division))\n",
    "print('{} ^ {} = {}'.format(number1, number2, result_power))\n",
    "\n",
    "# THIS IS TO CHECK YOUR CODE, DON'T CHANGE THIS\n",
    "# IF YOUR CODE IS CORRECT YOU WILL NOT GET ANY ERRORS\n",
    "assert result_addition == number1 + number2, \"{} != {} + {}\".format(result_addition, number1, number2)\n",
    "assert result_subtraction == number1 - number2, \"{} != {} - {}\".format(result_addition, number1, number2)\n",
    "assert result_multiplication == number1 * number2, \"{} != {} * {}\".format(result_addition, number1, number2)\n",
    "assert result_division == number1 / number2, \"{} != {} / {}\".format(result_addition, number1, number2)\n",
    "assert result_power == number1 ** number2, \"{} != {} ** {}\".format(result_addition, number1, number2)"
   ]
  },
  {
   "cell_type": "code",
   "execution_count": 14,
   "metadata": {
    "scrolled": true
   },
   "outputs": [
    {
     "name": "stdout",
     "output_type": "stream",
     "text": [
      "Enter your first number: 0\n",
      "The number is positive\n"
     ]
    }
   ],
   "source": [
    "# Question 3.1\n",
    "\n",
    "number = eval(input(\"Enter your first number: \"))\n",
    "if number < 0:\n",
    "    print(\"The number is negative\")\n",
    "else:\n",
    "    print(\"The number is positive\")"
   ]
  },
  {
   "cell_type": "code",
   "execution_count": 18,
   "metadata": {
    "scrolled": true
   },
   "outputs": [
    {
     "name": "stdout",
     "output_type": "stream",
     "text": [
      "Enter your number: -6\n",
      "The number is negative and even\n"
     ]
    }
   ],
   "source": [
    "# Question 3.2\n",
    "\n",
    "number = eval(input(\"Enter your number: \"))\n",
    "if number < 0:\n",
    "    if number % 2 != 0:\n",
    "        print(\"The number is negative and odd\")\n",
    "    else:\n",
    "        print(\"The number is negative and even\")\n",
    "else:\n",
    "    if number % 2 != 0:\n",
    "        print(\"The number is positive and odd\")\n",
    "    else:\n",
    "        print(\"The number is positive and even\")"
   ]
  },
  {
   "cell_type": "code",
   "execution_count": 23,
   "metadata": {},
   "outputs": [
    {
     "name": "stdout",
     "output_type": "stream",
     "text": [
      "Enter your first number: -2\n",
      "The number is negative and even\n"
     ]
    }
   ],
   "source": [
    "# Question 3.3\n",
    "\n",
    "number = eval(input(\"Enter your first number: \"))\n",
    "\n",
    "if type(number) is float:\n",
    "    print(\"Error, the value which was input is not an integer\")   \n",
    "\n",
    "elif number < 0:\n",
    "    if number % 2 != 0:\n",
    "        print(\"The number is negative and odd\")\n",
    "    else:\n",
    "        print(\"The number is negative and even\")\n",
    "\n",
    "else:\n",
    "    if number % 2 != 0:\n",
    "        print(\"The number is positive and odd\")\n",
    "    else:\n",
    "        print(\"The number is positive and even\")"
   ]
  },
  {
   "cell_type": "code",
   "execution_count": 2,
   "metadata": {
    "scrolled": false
   },
   "outputs": [
    {
     "name": "stdout",
     "output_type": "stream",
     "text": [
      "Enter n: 9\n",
      "*\n",
      "**\n",
      "***\n",
      "****\n",
      "*****\n",
      "******\n",
      "*******\n",
      "********\n",
      "*********\n",
      "Enter n: 9\n",
      "  0\n",
      "  1  1\n",
      "  2  2  2\n",
      "  3  3  3  3\n",
      "  4  4  4  4  4\n",
      "  5  5  5  5  5  5\n",
      "  6  6  6  6  6  6  6\n",
      "  7  7  7  7  7  7  7  7\n",
      "  8  8  8  8  8  8  8  8  8\n",
      "Enter n: 9\n",
      "  0\n",
      "  0  1\n",
      "  0  1  2\n",
      "  0  1  2  3\n",
      "  0  1  2  3  4\n",
      "  0  1  2  3  4  5\n",
      "  0  1  2  3  4  5  6\n",
      "  0  1  2  3  4  5  6  7\n",
      "  0  1  2  3  4  5  6  7  8\n",
      "Enter n: 9\n",
      "   0\n",
      "   1  2\n",
      "   3  4  5\n",
      "   6  7  8  9\n",
      "  10 11 12 13 14\n",
      "  15 16 17 18 19 20\n",
      "  21 22 23 24 25 26 27\n",
      "  28 29 30 31 32 33 34 35\n",
      "  36 37 38 39 40 41 42 43 44\n"
     ]
    }
   ],
   "source": [
    "# Question 4.1 \n",
    "\n",
    "# USING '*' AS THE CHARACTER\n",
    "n = int(input(\"Enter n: \"))\n",
    "for j in range(n):\n",
    "    line = \"\"\n",
    "    for i in range (j+1):\n",
    "        line += \"*\"\n",
    "    print(line)\n",
    "    \n",
    "# USING THE ROW INDEX AS THE CHARACTER\n",
    "n = int(input(\"Enter n: \"))\n",
    "for j in range(n):\n",
    "    line = ''\n",
    "    for i in range(j+1):\n",
    "        line += '{:>3}'.format(j)\n",
    "    print(line)\n",
    "\n",
    "# USING THE COL INDEX AS THE CHARACTER\n",
    "n = int(input(\"Enter n: \"))\n",
    "for j in range(n):\n",
    "    line = ''\n",
    "    for i in range(j+1):\n",
    "        line += '{:>3}'.format(i)\n",
    "    print(line)\n",
    "\n",
    "# USING THE CUMULATIVE INDEX AS THE CHARACTER\n",
    "n = int(input(\"Enter n: \"))\n",
    "for j in range(n):\n",
    "    line = \" \"\n",
    "    for i in range(j+1):\n",
    "        line += \"{:>3}\" .format(j*(j+1)//2 + i)\n",
    "    print(line)"
   ]
  },
  {
   "cell_type": "code",
   "execution_count": 3,
   "metadata": {},
   "outputs": [
    {
     "name": "stdout",
     "output_type": "stream",
     "text": [
      "Enter n: 3\n",
      "Enter m: 2\n",
      "**\n",
      "**\n",
      "**\n",
      "Enter n: 3\n",
      "Enter m: 2\n",
      "  0  0\n",
      "  1  1\n",
      "  2  2\n",
      "Enter n: 3\n",
      "Enter m: 2\n",
      "  0  1\n",
      "  0  1\n",
      "  0  1\n",
      "Enter n: 3\n",
      "Enter m: 2\n",
      "  0  1\n",
      "  2  3\n",
      "  4  5\n"
     ]
    }
   ],
   "source": [
    "# Question 4.2\n",
    "\n",
    "# USING '*' AS THE CHARACTER\n",
    "n = int(input(\"Enter n: \"))\n",
    "m = int(input(\"Enter m: \"))\n",
    "for j in range(n):\n",
    "    line = ''\n",
    "    for i in range(m):\n",
    "        line += '*'\n",
    "    print(line)\n",
    "\n",
    "\n",
    "# USING THE ROW INDEX AS THE CHARACTER\n",
    "n = int(input(\"Enter n: \"))\n",
    "m = int(input(\"Enter m: \"))\n",
    "for j in range(n):\n",
    "    line = ''\n",
    "    for i in range(m):\n",
    "        line += '{:>3}'.format(j)\n",
    "    print(line)\n",
    "  \n",
    "    \n",
    "# USING THE COL INDEX AS THE CHARACTER\n",
    "n = int(input(\"Enter n: \"))\n",
    "m = int(input(\"Enter m: \"))\n",
    "for j in range(n):\n",
    "    line = ''\n",
    "    for i in range(m):\n",
    "        line += '{:>3}'.format(i)\n",
    "    print(line)\n",
    "\n",
    "\n",
    "# USING THE CUMULATIVE INDEX AS THE CHARACTER\n",
    "n = int(input(\"Enter n: \"))\n",
    "m = int(input(\"Enter m: \"))\n",
    "for j in range(n):\n",
    "    line = ''\n",
    "    for i in range(m):\n",
    "        line += '{:>3}'.format(j*m + i)\n",
    "    print(line)"
   ]
  },
  {
   "cell_type": "code",
   "execution_count": 4,
   "metadata": {
    "scrolled": true
   },
   "outputs": [
    {
     "name": "stdout",
     "output_type": "stream",
     "text": [
      "[1, 2, 3, 5, 7, 11, 13, 17, 19, 23, 29, 31, 37, 41, 43, 47, 53, 59, 61, 67, 71, 73, 79, 83, 89, 97]\n"
     ]
    }
   ],
   "source": [
    "# Question 5\n",
    "\n",
    "results = []\n",
    "for i in range(1, 101):\n",
    "    prime = True\n",
    "    for j in range(2, i//2+1):\n",
    "        if i%j == 0:\n",
    "            prime = False\n",
    "    # if Prime is true, add the corresponding i value to the results list\n",
    "    if prime:\n",
    "        results.append(i)\n",
    "print(results)"
   ]
  },
  {
   "cell_type": "markdown",
   "metadata": {},
   "source": [
    "## Question 6\n",
    "### git and github\n",
    "\n",
    "1. Create a directory called 'assignments' for all of the homework assignments.\n",
    "    + **Do not** make this directory in the 2018_ITP directory which contains the lecture material\n",
    "2. Add this Jupyter notebook to the directory you just created\n",
    "3. Initialize this directory as a git repository\n",
    "4. Add your assignment notebook to the repository\n",
    "5. Commit your assignment\n",
    "6. On github.com create a new repository called itp_2018_assigments\n",
    "7. Link the github repository with your local repository\n",
    "8. Email the link to your github repository to Mark.Grivainis@nyumc.org and Himanshu.Grover@nyumc.org\n",
    "\n",
    "All of your homework will be added to this repository, you will need to have pushed your changes before the deadline for any of the assignments."
   ]
  }
 ],
 "metadata": {
  "kernelspec": {
   "display_name": "Python 3",
   "language": "python",
   "name": "python3"
  },
  "language_info": {
   "codemirror_mode": {
    "name": "ipython",
    "version": 3
   },
   "file_extension": ".py",
   "mimetype": "text/x-python",
   "name": "python",
   "nbconvert_exporter": "python",
   "pygments_lexer": "ipython3",
   "version": "3.6.6"
  }
 },
 "nbformat": 4,
 "nbformat_minor": 2
}
