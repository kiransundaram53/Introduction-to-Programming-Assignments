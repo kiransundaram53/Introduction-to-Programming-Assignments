{
 "cells": [
  {
   "cell_type": "markdown",
   "metadata": {},
   "source": [
    "# Introduction to Programming Summer '18\n",
    "## Assignment Two\n",
    "### Kiran Sundaram"
   ]
  },
  {
   "cell_type": "code",
   "execution_count": 1,
   "metadata": {},
   "outputs": [],
   "source": [
    "# Question 1.1\n",
    "\n",
    "DNA = [\"A\", \"C\", \"G\", \"T\"]\n",
    "def validity_check(sequence):\n",
    "    sequence = sequence.upper()\n",
    "    if set(sequence).issubset(DNA):\n",
    "        return True\n",
    "    else:\n",
    "        return False\n",
    "\n",
    "assert validity_check('ACGT') == True, 'validity_check(\"ACGT\") returns False, should return True'\n",
    "assert validity_check('acgt') == True, 'validity_check(\"acgt\") returns False, should return True'\n",
    "assert validity_check('AGUC') == False, 'validity_check(\"AGUC\") returns True, should return False'\n",
    "assert validity_check('PPPP') == False, 'validity_check(\"PPPP\") returns True, should return False'"
   ]
  },
  {
   "cell_type": "code",
   "execution_count": 2,
   "metadata": {},
   "outputs": [],
   "source": [
    "# Question 1.2\n",
    "\n",
    "comp = {'A': 'T', 'T':'A', 'C':'G', 'G':'C'}\n",
    "\n",
    "def reverse_complement(sequence):\n",
    "    sequpper = sequence.upper()\n",
    "    seqrev = sequpper[::-1]\n",
    "    sequence = []\n",
    "    for key in seqrev:\n",
    "        sequence.append(comp[key])\n",
    "    sequence = ''.join(sequence)\n",
    "    return(sequence)\n",
    "\n",
    "assert reverse_complement('AAGCT') == 'AGCTT', 'reverse_complement(\"AAGCT\") should return \"AGCTT\"'\n",
    "assert reverse_complement('tggca') in ['tgcca','TGCCA'], 'reverse_complement(\"tggca\") should return \"tgcca\"'"
   ]
  },
  {
   "cell_type": "code",
   "execution_count": 3,
   "metadata": {
    "scrolled": true
   },
   "outputs": [
    {
     "name": "stdout",
     "output_type": "stream",
     "text": [
      "Enter a DNA sequence: AGCTCGAGC\n",
      "GCTCGAGCT\n",
      "Enter a DNA sequence: CCTA\n",
      "TAGG\n",
      "Enter a DNA sequence: af\n",
      "This is an invalid DNA sequence\n",
      "Enter a DNA sequence: \n"
     ]
    }
   ],
   "source": [
    "# Question 1.3\n",
    "\n",
    "comp = {'A': 'T', 'T':'A', 'C':'G', 'G':'C'}\n",
    "DNA = [\"A\", \"C\", \"G\", \"T\"]\n",
    "\n",
    "def reverse_complement(sequence):\n",
    "    sequence = sequence.upper()\n",
    "    seqrev = sequence[::-1]\n",
    "    lst = []\n",
    "    for key in seqrev:\n",
    "        lst.append(comp[key])\n",
    "    lst = ''.join(lst)\n",
    "    print(lst)\n",
    "\n",
    "def validity_check(sequence):\n",
    "    sequence = sequence.upper()\n",
    "    if set(sequence).issubset(DNA):\n",
    "        return reverse_complement(sequence)\n",
    "    else:\n",
    "        print(\"This is an invalid DNA sequence\")\n",
    "    \n",
    "def main():\n",
    "    sequence = input(\"Enter a DNA sequence: \")\n",
    "    while sequence != \"\":\n",
    "        validity_check(sequence)\n",
    "        sequence = input(\"Enter a DNA sequence: \") \n",
    "\n",
    "main()"
   ]
  },
  {
   "cell_type": "code",
   "execution_count": 4,
   "metadata": {
    "scrolled": true
   },
   "outputs": [],
   "source": [
    "# Question 2.1\n",
    "\n",
    "# character to number dictionary\n",
    "letternum_dict = {\"A\":0, \"B\":1, \"C\":2, \"D\":3, \"E\":4, \"F\":5, \"G\":6, \"H\":7, \"I\":8, \"J\":9, \"K\":10, \n",
    "        \"L\":11, \"M\":12, \"N\":13, \"O\":14, \"P\":15, \"Q\":16, \"R\":17, \"S\":18, \"T\":19, \"U\":20, \n",
    "        \"V\":21, \"W\":22, \"X\":23, \"Y\":24, \"Z\":25}\n",
    "\n",
    "# flip the dictionary key-value pairs \n",
    "# used in the last step of code\n",
    "inv_letternum_dict = {v: k for k, v in letternum_dict.items()}\n",
    "\n",
    "def encode_string(message, shift=5):\n",
    "    # turn original message into numbers\n",
    "    message = message.upper()\n",
    "    original_list = []\n",
    "    for original_number in message:\n",
    "        original_list.append(letternum_dict[original_number])\n",
    "    \n",
    "    # calculate values of shifted characters\n",
    "    # add original number to shift\n",
    "    # modulo division to account for the wrapping of characters\n",
    "    new_number = [((original_number + shift) % 26) for original_number in original_list]\n",
    "    \n",
    "    # revert the characters to numbers\n",
    "    new_list = []\n",
    "    for new_character in new_number:\n",
    "        new_list.append(inv_letternum_dict[new_character])\n",
    "    message = ''.join(new_list)\n",
    "    return message\n",
    "\n",
    "assert encode_string('ABCD', 1) == 'BCDE', \"encode_string('ABCD', 1) should return 'BCDE'\"\n",
    "assert encode_string('FOOBAR', 3) == 'IRREDU', \"encode_string('FOOBAR', 3) should return 'IRREDU'\"\n",
    "assert encode_string('XYZ') == 'CDE', \"encode_string('XYZ', 3) should return 'CDE'\""
   ]
  },
  {
   "cell_type": "code",
   "execution_count": 5,
   "metadata": {},
   "outputs": [],
   "source": [
    "# Question 2.2\n",
    "\n",
    "# character to number dictionary\n",
    "letternum_dict = {\"A\":0, \"B\":1, \"C\":2, \"D\":3, \"E\":4, \"F\":5, \"G\":6, \"H\":7, \"I\":8, \"J\":9, \"K\":10, \n",
    "        \"L\":11, \"M\":12, \"N\":13, \"O\":14, \"P\":15, \"Q\":16, \"R\":17, \"S\":18, \"T\":19, \"U\":20, \n",
    "        \"V\":21, \"W\":22, \"X\":23, \"Y\":24, \"Z\":25}\n",
    "\n",
    "# flip the dictionary key-value pairs \n",
    "# used in the last step of code\n",
    "inv_letternum_dict = {v: k for k, v in letternum_dict.items()}\n",
    "\n",
    "def decode_string(message, shift=5):\n",
    "    \n",
    "    # turn original message into numbers\n",
    "    message = message.upper()\n",
    "    original_list = []\n",
    "    for original_number in message:\n",
    "        original_list.append(letternum_dict[original_number])\n",
    "    \n",
    "    # calculate values of shifted characters\n",
    "    # subtract the shift from the original number\n",
    "    # modulo division to account for the wrapping of characters\n",
    "    new_number = [((original_number - shift) % 26) for original_number in original_list]\n",
    "    \n",
    "    # revert the characters to numbers\n",
    "    new_list = []\n",
    "    for new_character in new_number:\n",
    "        new_list.append(inv_letternum_dict[new_character])\n",
    "    message = ''.join(new_list)\n",
    "    return message\n",
    "\n",
    "assert decode_string('MNO', 10) == 'CDE', \"decode_string('MNO', 10) should return 'CDE'\"\n",
    "assert decode_string('PYTHON') == 'KTOCJI', \"decode_string('PYTHON') should return 'KTOCJI'\"\n",
    "\n",
    "assert decode_string(encode_string('ABCD', 1), 1) == 'ABCD', \"decode_string(encode_string('ABCD', 1), 1) should return 'ABCD'\"\n",
    "assert decode_string(encode_string('FOOBAR', 3), 3) == 'FOOBAR', \"decode_string(encode_string('FOOBAR', 3), 3) should return 'FOOBAR'\"\n",
    "assert decode_string(encode_string('XYZ')) == 'XYZ', \"decode_string(encode_string('XYZ')) should return 'XYZ'\""
   ]
  },
  {
   "cell_type": "code",
   "execution_count": 6,
   "metadata": {
    "scrolled": false
   },
   "outputs": [
    {
     "name": "stdout",
     "output_type": "stream",
     "text": [
      " x x x x x x x x x x\n",
      " x o o o o o o o o x\n",
      " x o o o o o o o o x\n",
      " x o o o o o o o o x\n",
      " x o o o o o o o o x\n",
      " x o o o o o o o o x\n",
      " x o o o o o o o o x\n",
      " x o o o o o o o o x\n",
      " x o o o o o o o o x\n",
      " x x x x x x x x x x\n"
     ]
    }
   ],
   "source": [
    "# Question 3.1 \n",
    "\n",
    "N = 10\n",
    "pattern = [[' o' for x in range(N)] for y in range(N)]\n",
    "\n",
    "for j in range(N):\n",
    "    for i  in range(N):\n",
    "        if j%9 == 0 or i%9 == 0:\n",
    "            pattern[j][i] = ' x'\n",
    "\n",
    "for row in pattern:\n",
    "    print(''.join(row))"
   ]
  },
  {
   "cell_type": "code",
   "execution_count": 7,
   "metadata": {},
   "outputs": [
    {
     "name": "stdout",
     "output_type": "stream",
     "text": [
      "N = 9\n",
      " x o o o o o o o x\n",
      " o x o o o o o x o\n",
      " o o x o o o x o o\n",
      " o o o x o x o o o\n",
      " o o o o x o o o o\n",
      " o o o x o x o o o\n",
      " o o x o o o x o o\n",
      " o x o o o o o x o\n",
      " x o o o o o o o x\n",
      "\n",
      "\n",
      "N = 10\n",
      " x o o o o o o o o x\n",
      " o x o o o o o o x o\n",
      " o o x o o o o x o o\n",
      " o o o x o o x o o o\n",
      " o o o o x x o o o o\n",
      " o o o o x x o o o o\n",
      " o o o x o o x o o o\n",
      " o o x o o o o x o o\n",
      " o x o o o o o o x o\n",
      " x o o o o o o o o x\n"
     ]
    }
   ],
   "source": [
    "# Question 3.2\n",
    "\n",
    "print(\"N = 9\")\n",
    "N = 9\n",
    "pattern = [[' o' for x in range(N)] for y in range(N)]\n",
    "\n",
    "for j in range(N):\n",
    "    for i  in range(N):\n",
    "        if j == i or j+i == 8:\n",
    "            pattern[j][i] = ' x'\n",
    "\n",
    "for row in pattern:\n",
    "    print(''.join(row))\n",
    "\n",
    "print(\"\\n\")\n",
    "print(\"N = 10\")\n",
    "N = 10\n",
    "pattern = [[' o' for x in range(N)] for y in range(N)]\n",
    "\n",
    "for j in range(N):\n",
    "    for i  in range(N):\n",
    "        if j == i or j+i == 9:\n",
    "            pattern[j][i] = ' x'\n",
    "\n",
    "for row in pattern:\n",
    "    print(''.join(row))"
   ]
  },
  {
   "cell_type": "code",
   "execution_count": 8,
   "metadata": {
    "scrolled": true
   },
   "outputs": [
    {
     "name": "stdout",
     "output_type": "stream",
     "text": [
      " o x o x o x o x o x\n",
      " x o x o x o x o x o\n",
      " o x o x o x o x o x\n",
      " x o x o x o x o x o\n",
      " o x o x o x o x o x\n",
      " x o x o x o x o x o\n",
      " o x o x o x o x o x\n",
      " x o x o x o x o x o\n",
      " o x o x o x o x o x\n",
      " x o x o x o x o x o\n"
     ]
    }
   ],
   "source": [
    "# Question 3.3\n",
    "\n",
    "N = 10\n",
    "pattern = [[' o' for x in range(N)] for y in range(N)]\n",
    "\n",
    "for j in range(N):\n",
    "    for i  in range(N):\n",
    "        if (i%2 == 1 and j%2 == 0) or (i%2 == 0 and j%2 == 1):\n",
    "            pattern[j][i] = ' x'\n",
    "\n",
    "for row in pattern:\n",
    "    print(''.join(row))"
   ]
  },
  {
   "cell_type": "code",
   "execution_count": 9,
   "metadata": {},
   "outputs": [
    {
     "name": "stdout",
     "output_type": "stream",
     "text": [
      "N = 9\n",
      " x x x x x x x x x\n",
      " x x x x o x x x x\n",
      " x x x o o o x x x\n",
      " x x o o o o o x x\n",
      " x o o o o o o o x\n",
      " x x o o o o o x x\n",
      " x x x o o o x x x\n",
      " x x x x o x x x x\n",
      " x x x x x x x x x\n",
      "\n",
      "\n",
      "N=10\n",
      " x x x x x x x x x x\n",
      " x x x x o o x x x x\n",
      " x x x o o o o x x x\n",
      " x x o o o o o o x x\n",
      " x o o o o o o o o x\n",
      " x o o o o o o o o x\n",
      " x x o o o o o o x x\n",
      " x x x o o o o x x x\n",
      " x x x x o o x x x x\n",
      " x x x x x x x x x x\n"
     ]
    }
   ],
   "source": [
    "# Question 3.4\n",
    "\n",
    "print(\"N = 9\")\n",
    "N = 9\n",
    "pattern = [[' o' for x in range(N)] for y in range(N)]\n",
    "\n",
    "for j in range(N):\n",
    "    for i  in range(N):\n",
    "        if (j%8 == 0 or i%8 == 0) or ((j == 1 or j == 7) and (0<i<4 or 4<i<8)) or ((j == 2 or j == 6) and (0<i<3 or 5<i<8)) or ((j == 3 or j == 5) and (0<i<2 or 6<i<8)):\n",
    "            pattern[j][i] = ' x'\n",
    "\n",
    "for row in pattern:\n",
    "    print(''.join(row))\n",
    "\n",
    "print(\"\\n\")\n",
    "\n",
    "print(\"N=10\")\n",
    "N = 10\n",
    "pattern = [[' o' for x in range(N)] for y in range(N)]\n",
    "\n",
    "for j in range(N):\n",
    "    for i  in range(N):\n",
    "        if (j%9 == 0 or i%9 == 0) or ((j == 1 or j == 8) and (0<i<4 or 5<i<9)) or ((j == 2 or j == 7) and (0<i<3 or 6<i<9)) or ((j == 3 or j == 6) and (0<i<2 or 7<i<9)):\n",
    "            pattern[j][i] = ' x'\n",
    "\n",
    "for row in pattern:\n",
    "    print(''.join(row))"
   ]
  }
 ],
 "metadata": {
  "kernelspec": {
   "display_name": "Python 3",
   "language": "python",
   "name": "python3"
  },
  "language_info": {
   "codemirror_mode": {
    "name": "ipython",
    "version": 3
   },
   "file_extension": ".py",
   "mimetype": "text/x-python",
   "name": "python",
   "nbconvert_exporter": "python",
   "pygments_lexer": "ipython3",
   "version": "3.6.6"
  }
 },
 "nbformat": 4,
 "nbformat_minor": 2
}
